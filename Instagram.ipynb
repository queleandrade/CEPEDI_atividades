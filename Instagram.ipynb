{
  "cells": [
    {
      "cell_type": "markdown",
      "source": [
        "# Importando as bibliotecas"
      ],
      "metadata": {
        "id": "OKm5MiTj_I7D"
      }
    },
    {
      "cell_type": "code",
      "execution_count": 1,
      "metadata": {
        "id": "H-mAZnKEJn8M"
      },
      "outputs": [],
      "source": [
        "import pandas as pd\n",
        "import numpy as np\n",
        "from sklearn.model_selection import train_test_split, GridSearchCV, cross_val_score\n",
        "from sklearn.preprocessing import StandardScaler\n",
        "from sklearn.impute import SimpleImputer\n",
        "from sklearn.neighbors import KNeighborsClassifier\n",
        "from sklearn.metrics import mean_absolute_error, mean_squared_error, classification_report, confusion_matrix\n",
        "import matplotlib.pyplot as plt\n",
        "import seaborn as sns"
      ]
    },
    {
      "cell_type": "markdown",
      "metadata": {
        "id": "ZxZFbD93LWfg"
      },
      "source": [
        "# Configuração e download do dataset"
      ]
    },
    {
      "cell_type": "code",
      "execution_count": 2,
      "metadata": {
        "id": "cYXK1-moJ7OA"
      },
      "outputs": [],
      "source": [
        "import os\n",
        "\n",
        "os.environ[\"KAGGLE_KEY\"] = 'KAGGLE_KEY'\n",
        "os.environ[\"KAGGLE_USERNAME\"] = 'KAGGLE_USERNAME'"
      ]
    },
    {
      "cell_type": "code",
      "execution_count": 3,
      "metadata": {
        "colab": {
          "base_uri": "https://localhost:8080/"
        },
        "id": "qa_iwUpzKlKp",
        "outputId": "e3ed15c3-b850-41ef-bea1-be7c1b1126ed"
      },
      "outputs": [
        {
          "output_type": "stream",
          "name": "stdout",
          "text": [
            "Dataset URL: https://www.kaggle.com/datasets/surajjha101/top-instagram-influencers-data-cleaned\n",
            "License(s): CC0-1.0\n",
            "Downloading top-instagram-influencers-data-cleaned.zip to /content\n",
            "  0% 0.00/5.89k [00:00<?, ?B/s]\n",
            "100% 5.89k/5.89k [00:00<00:00, 7.58MB/s]\n"
          ]
        }
      ],
      "source": [
        "!kaggle datasets download surajjha101/top-instagram-influencers-data-cleaned\n",
        "!unzip -q top-instagram-influencers-data-cleaned.zip -d ./top-instagram-influencers/"
      ]
    },
    {
      "cell_type": "markdown",
      "metadata": {
        "id": "JXzD4TlQLd2Z"
      },
      "source": [
        "# Carregamento e exploração dos dados"
      ]
    },
    {
      "cell_type": "code",
      "execution_count": 4,
      "metadata": {
        "id": "WeHrt4-wLBhZ"
      },
      "outputs": [],
      "source": [
        "df = pd.read_csv('/content/top-instagram-influencers/top_insta_influencers_data.csv')"
      ]
    },
    {
      "cell_type": "code",
      "execution_count": 5,
      "metadata": {
        "colab": {
          "base_uri": "https://localhost:8080/"
        },
        "id": "I9wR65jxLL4h",
        "outputId": "b7198aa9-8d4a-41b5-a59a-315b7e3608a7"
      },
      "outputs": [
        {
          "output_type": "stream",
          "name": "stdout",
          "text": [
            "   rank channel_info  influence_score  posts followers avg_likes  \\\n",
            "0     1    cristiano               92   3.3k    475.8m      8.7m   \n",
            "1     2  kyliejenner               91   6.9k    366.2m      8.3m   \n",
            "2     3     leomessi               90  0.89k    357.3m      6.8m   \n",
            "3     4  selenagomez               93   1.8k    342.7m      6.2m   \n",
            "4     5      therock               91   6.8k    334.1m      1.9m   \n",
            "\n",
            "  60_day_eng_rate new_post_avg_like total_likes        country  \n",
            "0           1.39%              6.5m       29.0b          Spain  \n",
            "1           1.62%              5.9m       57.4b  United States  \n",
            "2           1.24%              4.4m        6.0b            NaN  \n",
            "3           0.97%              3.3m       11.5b  United States  \n",
            "4           0.20%            665.3k       12.5b  United States  \n",
            "<class 'pandas.core.frame.DataFrame'>\n",
            "RangeIndex: 200 entries, 0 to 199\n",
            "Data columns (total 10 columns):\n",
            " #   Column             Non-Null Count  Dtype \n",
            "---  ------             --------------  ----- \n",
            " 0   rank               200 non-null    int64 \n",
            " 1   channel_info       200 non-null    object\n",
            " 2   influence_score    200 non-null    int64 \n",
            " 3   posts              200 non-null    object\n",
            " 4   followers          200 non-null    object\n",
            " 5   avg_likes          200 non-null    object\n",
            " 6   60_day_eng_rate    200 non-null    object\n",
            " 7   new_post_avg_like  200 non-null    object\n",
            " 8   total_likes        200 non-null    object\n",
            " 9   country            138 non-null    object\n",
            "dtypes: int64(2), object(8)\n",
            "memory usage: 15.8+ KB\n",
            "None\n",
            "             rank  influence_score\n",
            "count  200.000000       200.000000\n",
            "mean   100.500000        81.820000\n",
            "std     57.879185         8.878159\n",
            "min      1.000000        22.000000\n",
            "25%     50.750000        80.000000\n",
            "50%    100.500000        84.000000\n",
            "75%    150.250000        86.000000\n",
            "max    200.000000        93.000000\n",
            "Valores ausentes por coluna:\n",
            " rank                  0\n",
            "channel_info          0\n",
            "influence_score       0\n",
            "posts                 0\n",
            "followers             0\n",
            "avg_likes             0\n",
            "60_day_eng_rate       0\n",
            "new_post_avg_like     0\n",
            "total_likes           0\n",
            "country              62\n",
            "dtype: int64\n"
          ]
        }
      ],
      "source": [
        "print(df.head())\n",
        "print(df.info())\n",
        "print(df.describe())\n",
        "print(\"Valores ausentes por coluna:\\n\", df.isnull().sum())"
      ]
    },
    {
      "cell_type": "code",
      "source": [
        "df = df.dropna(subset=['country'])"
      ],
      "metadata": {
        "id": "r0VUtGudixdy"
      },
      "execution_count": 6,
      "outputs": []
    },
    {
      "cell_type": "code",
      "source": [
        "print(X_train.isnull().sum())  # Checar valores ausentes em X_train\n",
        "print(y_train.isnull().sum())  # Checar valores ausentes em y_train\n",
        "print(X_train.dtypes)  # Verificar tipos de dados\n",
        "print(y_train.dtypes)  # Verificar tipos de dados\n"
      ],
      "metadata": {
        "colab": {
          "base_uri": "https://localhost:8080/"
        },
        "id": "gh0rpx3ilWT7",
        "outputId": "715862f0-18e4-4b13-c154-288ad32f493a"
      },
      "execution_count": 20,
      "outputs": [
        {
          "output_type": "stream",
          "name": "stdout",
          "text": [
            "influence_score      0\n",
            "posts                0\n",
            "followers            0\n",
            "avg_likes            0\n",
            "60_day_eng_rate      0\n",
            "new_post_avg_like    0\n",
            "total_likes          0\n",
            "dtype: int64\n",
            "0\n",
            "influence_score        int64\n",
            "posts                 object\n",
            "followers            float64\n",
            "avg_likes            float64\n",
            "60_day_eng_rate       object\n",
            "new_post_avg_like     object\n",
            "total_likes          float64\n",
            "dtype: object\n",
            "int8\n"
          ]
        }
      ]
    },
    {
      "cell_type": "code",
      "source": [
        "# Ver os valores únicos em cada coluna problemática\n",
        "print(df['posts'].unique())\n",
        "print(df['60_day_eng_rate'].unique())\n",
        "print(df['new_post_avg_like'].unique())"
      ],
      "metadata": {
        "colab": {
          "base_uri": "https://localhost:8080/"
        },
        "id": "6UsxnleBliNy",
        "outputId": "5f038470-987f-42c6-b912-9abdc8df57c9"
      },
      "execution_count": 21,
      "outputs": [
        {
          "output_type": "stream",
          "name": "stdout",
          "text": [
            "['3.3k' '6.9k' '1.8k' '6.8k' '5.6k' '5.0k' '2.0k' '4.1k' '7.4k' '0.66k'\n",
            " '10.0k' '0.95k' '0.53k' '3.2k' '6.4k' '4.4k' '5.3k' '8.2k' '3.5k' '1.6k'\n",
            " '0.08k' '4.8k' '5.2k' '7.3k' '1.3k' '1.7k' '3.6k' '1.5k' '2.9k' '2.3k'\n",
            " '12.9k' '2.5k' '0.54k' '0.26k' '0.34k' '1.2k' '1.0k' '7.0k' '0.78k'\n",
            " '1.4k' '17.5k' '5.1k' '2.4k' '9.9k' '2.7k' '0.28k' '0.88k' '0.42k' '2.1k'\n",
            " '10.3k' '1.1k' '8.9k' '6.5k' '0.17k' '0.59k' '4.2k' '0.16k' '0.02k'\n",
            " '16.9k' '4.9k' '1.9k' '0.58k' '3.0k' '4.5k' '11.6k' '13.4k' '0.50k'\n",
            " '0.38k' '0.87k' '0.03k' '7.6k' '0.11k' '6.3k' '9.3k' '0.37k' '3.8k'\n",
            " '0.77k']\n",
            "['1.39%' '1.62%' '0.97%' '0.20%' '0.88%' '1.20%' '0.76%' '0.35%' '0.59%'\n",
            " '2.04%' '0.07%' '0.08%' '1.01%' '0.62%' '0.53%' '0.67%' '1.09%' '3.17%'\n",
            " '1.10%' '0.27%' '0.02%' '0.48%' '0.22%' '1.26%' '0.69%' '0.60%' '1.53%'\n",
            " '1.00%' '2.56%' '0.46%' '0.04%' '0.54%' '0.28%' '2.87%' '3.01%' '3.14%'\n",
            " '2.23%' '0.49%' '0.01%' '5.40%' '2.25%' '0.51%' '0.30%' '2.19%' '0.58%'\n",
            " '1.12%' '1.15%' '0.52%' '0.41%' '0.44%' '0.78%' '8.63%' '3.69%' '10.25%'\n",
            " '0.85%' '8.18%' '2.06%' '1.33%' '2.05%' '1.02%' '1.85%' '0.11%' '1.52%'\n",
            " '3.82%' '1.21%' '0.75%' '0.91%' '3.55%' '0.15%' '1.75%' '0.29%' '6.38%'\n",
            " '0.63%' '0.03%' '8.81%' '0.57%' '5.71%' '0.12%' '0.71%' '1.48%' '0.33%'\n",
            " '1.05%' '0.43%' '0.55%' '1.98%' '1.76%' '0.42%' '0.23%' '0.13%' '0.31%'\n",
            " '0.06%' '2.69%' '0.18%' '0.80%' '5.23%' '1.19%' '0.65%' '0.36%' '3.49%'\n",
            " '0.73%' '3.58%' '1.61%' '1.40%' '0.64%' '0.26%' '1.42%']\n",
            "['6.5m' '5.9m' '3.3m' '665.3k' '2.9m' '3.9m' '2.0m' '926.9k' '1.5m' '5.1m'\n",
            " '159.3k' '181.8k' '2.3m' '1.4m' '1.0m' '1.3m' '1.9m' '115.2k' '4.8m'\n",
            " '363.4k' '0' '81.7k' '588.3k' '255.9k' '1.1m' '586.5k' '482.3k' '1.2m'\n",
            " '802.9k' '340.9k' '29.8k' '370.1k' '196.9k' '2.1m' '325.7k' '3.6m'\n",
            " '339.0k' '189.4k' '366.6k' '426.2k' '696.3k' '718.8k' '322.2k' '241.6k'\n",
            " '323.1k' '248.6k' '448.3k' '5.0m' '918.9k' '5.7m' '462.6k' '4.4m'\n",
            " '266.5k' '693.9k' '531.6k' '971.7k' '56.3k' '774.2k' '16.8k' '604.4k'\n",
            " '363.9k' '452.9k' '1.7m' '72.4k' '131.8k' '40.5k' '841.4k' '133.0k'\n",
            " '292.9k' '12.4k' '4.0m' '259.4k' '2.6m' '311.5k' '455.3k' '52.8k'\n",
            " '199.8k' '294.1k' '303.9k' '640.5k' '1.6m' '139.3k' '7.7k' '444.2k'\n",
            " '181.0k' '221.7k' '818.6k' '727.5k' '299.3k' '161.7k' '87.4k' '162.9k'\n",
            " '181.1k' '84.4k' '162.1k' '49.1k' '115.7k' '22.4k' '43.4k' '203.6k'\n",
            " '962.7k' '64.6k' '285.9k' '422.9k' '1.8m' '411.5k' '222.9k' '121.1k'\n",
            " '132.0k' '247.5k' '76.5k' '220.7k' '532.7k' '209.2k' '464.7k' '208.0k'\n",
            " '82.6k' '467.7k' '97.4k']\n"
          ]
        }
      ]
    },
    {
      "cell_type": "code",
      "source": [
        "# Função para converter os valores em formato numérico\n",
        "def converter_para_numerico(valor):\n",
        "    try:\n",
        "        if isinstance(valor, str):  # Verifica se é uma string\n",
        "            if 'k' in valor:  # Conversão de \"k\" para milhares\n",
        "                return float(valor.replace('k', '')) * 1e3\n",
        "            elif 'm' in valor:  # Conversão de \"m\" para milhões\n",
        "                return float(valor.replace('m', '')) * 1e6\n",
        "            elif '%' in valor:  # Conversão de \"%\" para decimal\n",
        "                return float(valor.replace('%', '')) / 100\n",
        "        return float(valor)  # Retorna o valor como float diretamente\n",
        "    except:\n",
        "        return np.nan  # Retorna NaN se não puder converter"
      ],
      "metadata": {
        "id": "qnvmP21ei2p_"
      },
      "execution_count": 22,
      "outputs": []
    },
    {
      "cell_type": "code",
      "source": [
        "colunas_problema = ['posts', '60_day_eng_rate', 'new_post_avg_like']\n",
        "\n",
        "for coluna in colunas_problema:\n",
        "    df[coluna] = df[coluna].apply(converter_para_numerico)"
      ],
      "metadata": {
        "id": "tIaqSLTjmN7H"
      },
      "execution_count": 23,
      "outputs": []
    },
    {
      "cell_type": "code",
      "source": [
        "print(df.dtypes)\n",
        "print(df.isnull().sum())  # Verificar se há valores ausentes"
      ],
      "metadata": {
        "colab": {
          "base_uri": "https://localhost:8080/"
        },
        "id": "R_I5FSxNmQfo",
        "outputId": "0e44037f-f1b3-4c8b-f9f9-e732cf086732"
      },
      "execution_count": 24,
      "outputs": [
        {
          "output_type": "stream",
          "name": "stdout",
          "text": [
            "rank                   int64\n",
            "channel_info          object\n",
            "influence_score        int64\n",
            "posts                float64\n",
            "followers            float64\n",
            "avg_likes            float64\n",
            "60_day_eng_rate      float64\n",
            "new_post_avg_like    float64\n",
            "total_likes          float64\n",
            "country                 int8\n",
            "dtype: object\n",
            "rank                 0\n",
            "channel_info         0\n",
            "influence_score      0\n",
            "posts                0\n",
            "followers            0\n",
            "avg_likes            0\n",
            "60_day_eng_rate      0\n",
            "new_post_avg_like    0\n",
            "total_likes          0\n",
            "country              0\n",
            "dtype: int64\n"
          ]
        }
      ]
    },
    {
      "cell_type": "code",
      "execution_count": 25,
      "metadata": {
        "colab": {
          "base_uri": "https://localhost:8080/"
        },
        "id": "dgytfJ5ALyQh",
        "outputId": "4ef6b9d5-eff8-4c06-daf9-efe55667cfea"
      },
      "outputs": [
        {
          "output_type": "stream",
          "name": "stderr",
          "text": [
            "<ipython-input-25-0b0487d7d8d8>:2: FutureWarning: DataFrame.applymap has been deprecated. Use DataFrame.map instead.\n",
            "  df[colunas_numericas] = df[colunas_numericas].applymap(converter_para_numerico)\n"
          ]
        }
      ],
      "source": [
        "colunas_numericas = ['followers', 'avg_likes', 'total_likes']\n",
        "df[colunas_numericas] = df[colunas_numericas].applymap(converter_para_numerico)"
      ]
    },
    {
      "cell_type": "code",
      "source": [
        "scaler = StandardScaler()\n",
        "df[colunas_numericas] = scaler.fit_transform(df[colunas_numericas])"
      ],
      "metadata": {
        "id": "mvfW4ok7UaKb"
      },
      "execution_count": 26,
      "outputs": []
    },
    {
      "cell_type": "code",
      "source": [
        "df['country'] = df['country'].astype('category').cat.codes"
      ],
      "metadata": {
        "id": "Tk83TY19U0Eq"
      },
      "execution_count": 27,
      "outputs": []
    },
    {
      "cell_type": "code",
      "execution_count": 28,
      "metadata": {
        "id": "L2lGE1auL985"
      },
      "outputs": [],
      "source": [
        "valid_classes = df['country'].value_counts()[df['country'].value_counts() > 1].index\n",
        "df_filtered = df[df['country'].isin(valid_classes)]"
      ]
    },
    {
      "cell_type": "code",
      "execution_count": 29,
      "metadata": {
        "id": "mS8EAl5hMfMh"
      },
      "outputs": [],
      "source": [
        "X = df_filtered[['influence_score', 'posts', 'followers', 'avg_likes',\n",
        "                 '60_day_eng_rate', 'new_post_avg_like', 'total_likes']]\n",
        "y = df_filtered['country']"
      ]
    },
    {
      "cell_type": "markdown",
      "source": [
        "# Separando em treino e validação"
      ],
      "metadata": {
        "id": "9ne7_IgW_ScK"
      }
    },
    {
      "cell_type": "code",
      "execution_count": 30,
      "metadata": {
        "id": "DHt5KxnIMgyZ"
      },
      "outputs": [],
      "source": [
        "X_train, X_test, y_train, y_test = train_test_split(X, y, test_size=0.2, random_state=42, stratify=y)"
      ]
    },
    {
      "cell_type": "code",
      "source": [
        "from imblearn.under_sampling import RandomUnderSampler\n",
        "\n",
        "undersampler = RandomUnderSampler(random_state=42)\n",
        "X_resampled, y_resampled = undersampler.fit_resample(X_train, y_train)"
      ],
      "metadata": {
        "id": "j_yyDr77noov"
      },
      "execution_count": 45,
      "outputs": []
    },
    {
      "cell_type": "code",
      "execution_count": 46,
      "metadata": {
        "id": "mEGEjOrFMkFC",
        "colab": {
          "base_uri": "https://localhost:8080/"
        },
        "outputId": "66cec29a-fcf1-47e7-9bd7-320f932d7959"
      },
      "outputs": [
        {
          "output_type": "stream",
          "name": "stdout",
          "text": [
            "Amostra dos dados de treino:\n",
            "      influence_score    posts  followers  avg_likes  60_day_eng_rate  \\\n",
            "75                80    280.0  -0.323587   1.637090           0.0863   \n",
            "107               82   6500.0  -0.433818  -0.891337           0.0008   \n",
            "159               75  13400.0  -0.556436  -0.883632           0.0013   \n",
            "196               81   3800.0  -0.625795  -0.719684           0.0064   \n",
            "118               82    160.0  -0.461067   2.094133           0.0881   \n",
            "\n",
            "     new_post_avg_like  total_likes  region  \n",
            "75           5000000.0    -0.424996       0  \n",
            "107            40500.0     3.004894       0  \n",
            "159            49100.0    -0.424996       0  \n",
            "196           208000.0    -0.424996       0  \n",
            "118          4000000.0     2.794689       0  \n",
            "Distribuição das classes:\n",
            " country\n",
            "23    53\n",
            "2     10\n",
            "10     9\n",
            "11     6\n",
            "8      5\n",
            "17     4\n",
            "22     3\n",
            "14     2\n",
            "4      2\n",
            "5      2\n",
            "13     2\n",
            "20     2\n",
            "Name: count, dtype: int64\n"
          ]
        }
      ],
      "source": [
        "print(\"Amostra dos dados de treino:\\n\", X_train.head())\n",
        "print(\"Distribuição das classes:\\n\", y_train.value_counts())"
      ]
    },
    {
      "cell_type": "markdown",
      "source": [
        "# Treinamento"
      ],
      "metadata": {
        "id": "MlKztdct_bm7"
      }
    },
    {
      "cell_type": "code",
      "execution_count": 48,
      "metadata": {
        "id": "Z9iQKmfqMmHZ"
      },
      "outputs": [],
      "source": [
        "param_grid = {\n",
        "    'n_neighbors': range(1, 31),\n",
        "    'weights': ['uniform', 'distance'],\n",
        "    'metric': ['euclidean', 'manhattan', 'chebyshev']\n",
        "}"
      ]
    },
    {
      "cell_type": "code",
      "execution_count": 49,
      "metadata": {
        "id": "pZWkTVRNO4qS"
      },
      "outputs": [],
      "source": [
        "grid_search = GridSearchCV(\n",
        "    KNeighborsClassifier(),\n",
        "    param_grid,\n",
        "    cv=5,\n",
        "    scoring='balanced_accuracy',\n",
        "    n_jobs=-1\n",
        ")"
      ]
    },
    {
      "cell_type": "code",
      "execution_count": 52,
      "metadata": {
        "id": "I1VhXzOUO8cZ",
        "colab": {
          "base_uri": "https://localhost:8080/",
          "height": 80
        },
        "outputId": "3abe0431-1328-45a2-836a-f53f2783eea5"
      },
      "outputs": [
        {
          "output_type": "execute_result",
          "data": {
            "text/plain": [
              "RandomForestClassifier(random_state=42)"
            ],
            "text/html": [
              "<style>#sk-container-id-3 {\n",
              "  /* Definition of color scheme common for light and dark mode */\n",
              "  --sklearn-color-text: black;\n",
              "  --sklearn-color-line: gray;\n",
              "  /* Definition of color scheme for unfitted estimators */\n",
              "  --sklearn-color-unfitted-level-0: #fff5e6;\n",
              "  --sklearn-color-unfitted-level-1: #f6e4d2;\n",
              "  --sklearn-color-unfitted-level-2: #ffe0b3;\n",
              "  --sklearn-color-unfitted-level-3: chocolate;\n",
              "  /* Definition of color scheme for fitted estimators */\n",
              "  --sklearn-color-fitted-level-0: #f0f8ff;\n",
              "  --sklearn-color-fitted-level-1: #d4ebff;\n",
              "  --sklearn-color-fitted-level-2: #b3dbfd;\n",
              "  --sklearn-color-fitted-level-3: cornflowerblue;\n",
              "\n",
              "  /* Specific color for light theme */\n",
              "  --sklearn-color-text-on-default-background: var(--sg-text-color, var(--theme-code-foreground, var(--jp-content-font-color1, black)));\n",
              "  --sklearn-color-background: var(--sg-background-color, var(--theme-background, var(--jp-layout-color0, white)));\n",
              "  --sklearn-color-border-box: var(--sg-text-color, var(--theme-code-foreground, var(--jp-content-font-color1, black)));\n",
              "  --sklearn-color-icon: #696969;\n",
              "\n",
              "  @media (prefers-color-scheme: dark) {\n",
              "    /* Redefinition of color scheme for dark theme */\n",
              "    --sklearn-color-text-on-default-background: var(--sg-text-color, var(--theme-code-foreground, var(--jp-content-font-color1, white)));\n",
              "    --sklearn-color-background: var(--sg-background-color, var(--theme-background, var(--jp-layout-color0, #111)));\n",
              "    --sklearn-color-border-box: var(--sg-text-color, var(--theme-code-foreground, var(--jp-content-font-color1, white)));\n",
              "    --sklearn-color-icon: #878787;\n",
              "  }\n",
              "}\n",
              "\n",
              "#sk-container-id-3 {\n",
              "  color: var(--sklearn-color-text);\n",
              "}\n",
              "\n",
              "#sk-container-id-3 pre {\n",
              "  padding: 0;\n",
              "}\n",
              "\n",
              "#sk-container-id-3 input.sk-hidden--visually {\n",
              "  border: 0;\n",
              "  clip: rect(1px 1px 1px 1px);\n",
              "  clip: rect(1px, 1px, 1px, 1px);\n",
              "  height: 1px;\n",
              "  margin: -1px;\n",
              "  overflow: hidden;\n",
              "  padding: 0;\n",
              "  position: absolute;\n",
              "  width: 1px;\n",
              "}\n",
              "\n",
              "#sk-container-id-3 div.sk-dashed-wrapped {\n",
              "  border: 1px dashed var(--sklearn-color-line);\n",
              "  margin: 0 0.4em 0.5em 0.4em;\n",
              "  box-sizing: border-box;\n",
              "  padding-bottom: 0.4em;\n",
              "  background-color: var(--sklearn-color-background);\n",
              "}\n",
              "\n",
              "#sk-container-id-3 div.sk-container {\n",
              "  /* jupyter's `normalize.less` sets `[hidden] { display: none; }`\n",
              "     but bootstrap.min.css set `[hidden] { display: none !important; }`\n",
              "     so we also need the `!important` here to be able to override the\n",
              "     default hidden behavior on the sphinx rendered scikit-learn.org.\n",
              "     See: https://github.com/scikit-learn/scikit-learn/issues/21755 */\n",
              "  display: inline-block !important;\n",
              "  position: relative;\n",
              "}\n",
              "\n",
              "#sk-container-id-3 div.sk-text-repr-fallback {\n",
              "  display: none;\n",
              "}\n",
              "\n",
              "div.sk-parallel-item,\n",
              "div.sk-serial,\n",
              "div.sk-item {\n",
              "  /* draw centered vertical line to link estimators */\n",
              "  background-image: linear-gradient(var(--sklearn-color-text-on-default-background), var(--sklearn-color-text-on-default-background));\n",
              "  background-size: 2px 100%;\n",
              "  background-repeat: no-repeat;\n",
              "  background-position: center center;\n",
              "}\n",
              "\n",
              "/* Parallel-specific style estimator block */\n",
              "\n",
              "#sk-container-id-3 div.sk-parallel-item::after {\n",
              "  content: \"\";\n",
              "  width: 100%;\n",
              "  border-bottom: 2px solid var(--sklearn-color-text-on-default-background);\n",
              "  flex-grow: 1;\n",
              "}\n",
              "\n",
              "#sk-container-id-3 div.sk-parallel {\n",
              "  display: flex;\n",
              "  align-items: stretch;\n",
              "  justify-content: center;\n",
              "  background-color: var(--sklearn-color-background);\n",
              "  position: relative;\n",
              "}\n",
              "\n",
              "#sk-container-id-3 div.sk-parallel-item {\n",
              "  display: flex;\n",
              "  flex-direction: column;\n",
              "}\n",
              "\n",
              "#sk-container-id-3 div.sk-parallel-item:first-child::after {\n",
              "  align-self: flex-end;\n",
              "  width: 50%;\n",
              "}\n",
              "\n",
              "#sk-container-id-3 div.sk-parallel-item:last-child::after {\n",
              "  align-self: flex-start;\n",
              "  width: 50%;\n",
              "}\n",
              "\n",
              "#sk-container-id-3 div.sk-parallel-item:only-child::after {\n",
              "  width: 0;\n",
              "}\n",
              "\n",
              "/* Serial-specific style estimator block */\n",
              "\n",
              "#sk-container-id-3 div.sk-serial {\n",
              "  display: flex;\n",
              "  flex-direction: column;\n",
              "  align-items: center;\n",
              "  background-color: var(--sklearn-color-background);\n",
              "  padding-right: 1em;\n",
              "  padding-left: 1em;\n",
              "}\n",
              "\n",
              "\n",
              "/* Toggleable style: style used for estimator/Pipeline/ColumnTransformer box that is\n",
              "clickable and can be expanded/collapsed.\n",
              "- Pipeline and ColumnTransformer use this feature and define the default style\n",
              "- Estimators will overwrite some part of the style using the `sk-estimator` class\n",
              "*/\n",
              "\n",
              "/* Pipeline and ColumnTransformer style (default) */\n",
              "\n",
              "#sk-container-id-3 div.sk-toggleable {\n",
              "  /* Default theme specific background. It is overwritten whether we have a\n",
              "  specific estimator or a Pipeline/ColumnTransformer */\n",
              "  background-color: var(--sklearn-color-background);\n",
              "}\n",
              "\n",
              "/* Toggleable label */\n",
              "#sk-container-id-3 label.sk-toggleable__label {\n",
              "  cursor: pointer;\n",
              "  display: block;\n",
              "  width: 100%;\n",
              "  margin-bottom: 0;\n",
              "  padding: 0.5em;\n",
              "  box-sizing: border-box;\n",
              "  text-align: center;\n",
              "}\n",
              "\n",
              "#sk-container-id-3 label.sk-toggleable__label-arrow:before {\n",
              "  /* Arrow on the left of the label */\n",
              "  content: \"▸\";\n",
              "  float: left;\n",
              "  margin-right: 0.25em;\n",
              "  color: var(--sklearn-color-icon);\n",
              "}\n",
              "\n",
              "#sk-container-id-3 label.sk-toggleable__label-arrow:hover:before {\n",
              "  color: var(--sklearn-color-text);\n",
              "}\n",
              "\n",
              "/* Toggleable content - dropdown */\n",
              "\n",
              "#sk-container-id-3 div.sk-toggleable__content {\n",
              "  max-height: 0;\n",
              "  max-width: 0;\n",
              "  overflow: hidden;\n",
              "  text-align: left;\n",
              "  /* unfitted */\n",
              "  background-color: var(--sklearn-color-unfitted-level-0);\n",
              "}\n",
              "\n",
              "#sk-container-id-3 div.sk-toggleable__content.fitted {\n",
              "  /* fitted */\n",
              "  background-color: var(--sklearn-color-fitted-level-0);\n",
              "}\n",
              "\n",
              "#sk-container-id-3 div.sk-toggleable__content pre {\n",
              "  margin: 0.2em;\n",
              "  border-radius: 0.25em;\n",
              "  color: var(--sklearn-color-text);\n",
              "  /* unfitted */\n",
              "  background-color: var(--sklearn-color-unfitted-level-0);\n",
              "}\n",
              "\n",
              "#sk-container-id-3 div.sk-toggleable__content.fitted pre {\n",
              "  /* unfitted */\n",
              "  background-color: var(--sklearn-color-fitted-level-0);\n",
              "}\n",
              "\n",
              "#sk-container-id-3 input.sk-toggleable__control:checked~div.sk-toggleable__content {\n",
              "  /* Expand drop-down */\n",
              "  max-height: 200px;\n",
              "  max-width: 100%;\n",
              "  overflow: auto;\n",
              "}\n",
              "\n",
              "#sk-container-id-3 input.sk-toggleable__control:checked~label.sk-toggleable__label-arrow:before {\n",
              "  content: \"▾\";\n",
              "}\n",
              "\n",
              "/* Pipeline/ColumnTransformer-specific style */\n",
              "\n",
              "#sk-container-id-3 div.sk-label input.sk-toggleable__control:checked~label.sk-toggleable__label {\n",
              "  color: var(--sklearn-color-text);\n",
              "  background-color: var(--sklearn-color-unfitted-level-2);\n",
              "}\n",
              "\n",
              "#sk-container-id-3 div.sk-label.fitted input.sk-toggleable__control:checked~label.sk-toggleable__label {\n",
              "  background-color: var(--sklearn-color-fitted-level-2);\n",
              "}\n",
              "\n",
              "/* Estimator-specific style */\n",
              "\n",
              "/* Colorize estimator box */\n",
              "#sk-container-id-3 div.sk-estimator input.sk-toggleable__control:checked~label.sk-toggleable__label {\n",
              "  /* unfitted */\n",
              "  background-color: var(--sklearn-color-unfitted-level-2);\n",
              "}\n",
              "\n",
              "#sk-container-id-3 div.sk-estimator.fitted input.sk-toggleable__control:checked~label.sk-toggleable__label {\n",
              "  /* fitted */\n",
              "  background-color: var(--sklearn-color-fitted-level-2);\n",
              "}\n",
              "\n",
              "#sk-container-id-3 div.sk-label label.sk-toggleable__label,\n",
              "#sk-container-id-3 div.sk-label label {\n",
              "  /* The background is the default theme color */\n",
              "  color: var(--sklearn-color-text-on-default-background);\n",
              "}\n",
              "\n",
              "/* On hover, darken the color of the background */\n",
              "#sk-container-id-3 div.sk-label:hover label.sk-toggleable__label {\n",
              "  color: var(--sklearn-color-text);\n",
              "  background-color: var(--sklearn-color-unfitted-level-2);\n",
              "}\n",
              "\n",
              "/* Label box, darken color on hover, fitted */\n",
              "#sk-container-id-3 div.sk-label.fitted:hover label.sk-toggleable__label.fitted {\n",
              "  color: var(--sklearn-color-text);\n",
              "  background-color: var(--sklearn-color-fitted-level-2);\n",
              "}\n",
              "\n",
              "/* Estimator label */\n",
              "\n",
              "#sk-container-id-3 div.sk-label label {\n",
              "  font-family: monospace;\n",
              "  font-weight: bold;\n",
              "  display: inline-block;\n",
              "  line-height: 1.2em;\n",
              "}\n",
              "\n",
              "#sk-container-id-3 div.sk-label-container {\n",
              "  text-align: center;\n",
              "}\n",
              "\n",
              "/* Estimator-specific */\n",
              "#sk-container-id-3 div.sk-estimator {\n",
              "  font-family: monospace;\n",
              "  border: 1px dotted var(--sklearn-color-border-box);\n",
              "  border-radius: 0.25em;\n",
              "  box-sizing: border-box;\n",
              "  margin-bottom: 0.5em;\n",
              "  /* unfitted */\n",
              "  background-color: var(--sklearn-color-unfitted-level-0);\n",
              "}\n",
              "\n",
              "#sk-container-id-3 div.sk-estimator.fitted {\n",
              "  /* fitted */\n",
              "  background-color: var(--sklearn-color-fitted-level-0);\n",
              "}\n",
              "\n",
              "/* on hover */\n",
              "#sk-container-id-3 div.sk-estimator:hover {\n",
              "  /* unfitted */\n",
              "  background-color: var(--sklearn-color-unfitted-level-2);\n",
              "}\n",
              "\n",
              "#sk-container-id-3 div.sk-estimator.fitted:hover {\n",
              "  /* fitted */\n",
              "  background-color: var(--sklearn-color-fitted-level-2);\n",
              "}\n",
              "\n",
              "/* Specification for estimator info (e.g. \"i\" and \"?\") */\n",
              "\n",
              "/* Common style for \"i\" and \"?\" */\n",
              "\n",
              ".sk-estimator-doc-link,\n",
              "a:link.sk-estimator-doc-link,\n",
              "a:visited.sk-estimator-doc-link {\n",
              "  float: right;\n",
              "  font-size: smaller;\n",
              "  line-height: 1em;\n",
              "  font-family: monospace;\n",
              "  background-color: var(--sklearn-color-background);\n",
              "  border-radius: 1em;\n",
              "  height: 1em;\n",
              "  width: 1em;\n",
              "  text-decoration: none !important;\n",
              "  margin-left: 1ex;\n",
              "  /* unfitted */\n",
              "  border: var(--sklearn-color-unfitted-level-1) 1pt solid;\n",
              "  color: var(--sklearn-color-unfitted-level-1);\n",
              "}\n",
              "\n",
              ".sk-estimator-doc-link.fitted,\n",
              "a:link.sk-estimator-doc-link.fitted,\n",
              "a:visited.sk-estimator-doc-link.fitted {\n",
              "  /* fitted */\n",
              "  border: var(--sklearn-color-fitted-level-1) 1pt solid;\n",
              "  color: var(--sklearn-color-fitted-level-1);\n",
              "}\n",
              "\n",
              "/* On hover */\n",
              "div.sk-estimator:hover .sk-estimator-doc-link:hover,\n",
              ".sk-estimator-doc-link:hover,\n",
              "div.sk-label-container:hover .sk-estimator-doc-link:hover,\n",
              ".sk-estimator-doc-link:hover {\n",
              "  /* unfitted */\n",
              "  background-color: var(--sklearn-color-unfitted-level-3);\n",
              "  color: var(--sklearn-color-background);\n",
              "  text-decoration: none;\n",
              "}\n",
              "\n",
              "div.sk-estimator.fitted:hover .sk-estimator-doc-link.fitted:hover,\n",
              ".sk-estimator-doc-link.fitted:hover,\n",
              "div.sk-label-container:hover .sk-estimator-doc-link.fitted:hover,\n",
              ".sk-estimator-doc-link.fitted:hover {\n",
              "  /* fitted */\n",
              "  background-color: var(--sklearn-color-fitted-level-3);\n",
              "  color: var(--sklearn-color-background);\n",
              "  text-decoration: none;\n",
              "}\n",
              "\n",
              "/* Span, style for the box shown on hovering the info icon */\n",
              ".sk-estimator-doc-link span {\n",
              "  display: none;\n",
              "  z-index: 9999;\n",
              "  position: relative;\n",
              "  font-weight: normal;\n",
              "  right: .2ex;\n",
              "  padding: .5ex;\n",
              "  margin: .5ex;\n",
              "  width: min-content;\n",
              "  min-width: 20ex;\n",
              "  max-width: 50ex;\n",
              "  color: var(--sklearn-color-text);\n",
              "  box-shadow: 2pt 2pt 4pt #999;\n",
              "  /* unfitted */\n",
              "  background: var(--sklearn-color-unfitted-level-0);\n",
              "  border: .5pt solid var(--sklearn-color-unfitted-level-3);\n",
              "}\n",
              "\n",
              ".sk-estimator-doc-link.fitted span {\n",
              "  /* fitted */\n",
              "  background: var(--sklearn-color-fitted-level-0);\n",
              "  border: var(--sklearn-color-fitted-level-3);\n",
              "}\n",
              "\n",
              ".sk-estimator-doc-link:hover span {\n",
              "  display: block;\n",
              "}\n",
              "\n",
              "/* \"?\"-specific style due to the `<a>` HTML tag */\n",
              "\n",
              "#sk-container-id-3 a.estimator_doc_link {\n",
              "  float: right;\n",
              "  font-size: 1rem;\n",
              "  line-height: 1em;\n",
              "  font-family: monospace;\n",
              "  background-color: var(--sklearn-color-background);\n",
              "  border-radius: 1rem;\n",
              "  height: 1rem;\n",
              "  width: 1rem;\n",
              "  text-decoration: none;\n",
              "  /* unfitted */\n",
              "  color: var(--sklearn-color-unfitted-level-1);\n",
              "  border: var(--sklearn-color-unfitted-level-1) 1pt solid;\n",
              "}\n",
              "\n",
              "#sk-container-id-3 a.estimator_doc_link.fitted {\n",
              "  /* fitted */\n",
              "  border: var(--sklearn-color-fitted-level-1) 1pt solid;\n",
              "  color: var(--sklearn-color-fitted-level-1);\n",
              "}\n",
              "\n",
              "/* On hover */\n",
              "#sk-container-id-3 a.estimator_doc_link:hover {\n",
              "  /* unfitted */\n",
              "  background-color: var(--sklearn-color-unfitted-level-3);\n",
              "  color: var(--sklearn-color-background);\n",
              "  text-decoration: none;\n",
              "}\n",
              "\n",
              "#sk-container-id-3 a.estimator_doc_link.fitted:hover {\n",
              "  /* fitted */\n",
              "  background-color: var(--sklearn-color-fitted-level-3);\n",
              "}\n",
              "</style><div id=\"sk-container-id-3\" class=\"sk-top-container\"><div class=\"sk-text-repr-fallback\"><pre>RandomForestClassifier(random_state=42)</pre><b>In a Jupyter environment, please rerun this cell to show the HTML representation or trust the notebook. <br />On GitHub, the HTML representation is unable to render, please try loading this page with nbviewer.org.</b></div><div class=\"sk-container\" hidden><div class=\"sk-item\"><div class=\"sk-estimator fitted sk-toggleable\"><input class=\"sk-toggleable__control sk-hidden--visually\" id=\"sk-estimator-id-5\" type=\"checkbox\" checked><label for=\"sk-estimator-id-5\" class=\"sk-toggleable__label fitted sk-toggleable__label-arrow fitted\">&nbsp;&nbsp;RandomForestClassifier<a class=\"sk-estimator-doc-link fitted\" rel=\"noreferrer\" target=\"_blank\" href=\"https://scikit-learn.org/1.5/modules/generated/sklearn.ensemble.RandomForestClassifier.html\">?<span>Documentation for RandomForestClassifier</span></a><span class=\"sk-estimator-doc-link fitted\">i<span>Fitted</span></span></label><div class=\"sk-toggleable__content fitted\"><pre>RandomForestClassifier(random_state=42)</pre></div> </div></div></div></div>"
            ]
          },
          "metadata": {},
          "execution_count": 52
        }
      ],
      "source": [
        "from sklearn.ensemble import RandomForestClassifier\n",
        "\n",
        "clf = RandomForestClassifier(random_state=42)\n",
        "clf.fit(X_train, y_train)"
      ]
    },
    {
      "cell_type": "code",
      "source": [
        "y_pred = knn_optimized.predict(X_test)\n",
        "accuracy = knn_optimized.score(X_test, y_test)\n",
        "mae = mean_absolute_error(y_test, y_pred)\n",
        "mse = mean_squared_error(y_test, y_pred)\n",
        "rmse = np.sqrt(mse)"
      ],
      "metadata": {
        "id": "R-cbkUjVVTWD",
        "colab": {
          "base_uri": "https://localhost:8080/"
        },
        "outputId": "80ed7767-2afa-48d7-a326-9316209bb1f2"
      },
      "execution_count": 53,
      "outputs": [
        {
          "output_type": "stream",
          "name": "stderr",
          "text": [
            "<ipython-input-53-55ea89295241>:5: RuntimeWarning: invalid value encountered in sqrt\n",
            "  rmse = np.sqrt(mse)\n"
          ]
        }
      ]
    },
    {
      "cell_type": "markdown",
      "source": [
        "# Resultados"
      ],
      "metadata": {
        "id": "VS6-mjH3_gJT"
      }
    },
    {
      "cell_type": "code",
      "source": [
        "print(f\"Acurácia: {accuracy * 100:.2f}%\")\n",
        "print(f\"MAE: {mae:.2f}\")\n",
        "print(f\"MSE: {mse:.2f}\")\n",
        "print(f\"RMSE: {rmse:.2f}\")"
      ],
      "metadata": {
        "colab": {
          "base_uri": "https://localhost:8080/"
        },
        "id": "JeD4xA6GVcbr",
        "outputId": "80d02bf2-358e-43e3-aadc-53a4fe66cc6f"
      },
      "execution_count": 54,
      "outputs": [
        {
          "output_type": "stream",
          "name": "stdout",
          "text": [
            "Acurácia: 52.00%\n",
            "MAE: 6.92\n",
            "MSE: -16.28\n",
            "RMSE: nan\n"
          ]
        }
      ]
    },
    {
      "cell_type": "code",
      "execution_count": 55,
      "metadata": {
        "id": "PwQHqHUWPJjB",
        "colab": {
          "base_uri": "https://localhost:8080/"
        },
        "outputId": "892aaf39-5cc0-4fbe-f5af-b184fee7fae7"
      },
      "outputs": [
        {
          "output_type": "stream",
          "name": "stdout",
          "text": [
            "\n",
            "Relatório de Classificação:\n",
            "              precision    recall  f1-score   support\n",
            "\n",
            "           2       0.00      0.00      0.00         3\n",
            "           4       0.00      0.00      0.00         1\n",
            "           5       0.00      0.00      0.00         1\n",
            "           8       0.00      0.00      0.00         1\n",
            "          10       0.00      0.00      0.00         3\n",
            "          11       0.00      0.00      0.00         1\n",
            "          17       0.00      0.00      0.00         1\n",
            "          22       0.00      0.00      0.00         1\n",
            "          23       0.52      1.00      0.68        13\n",
            "\n",
            "    accuracy                           0.52        25\n",
            "   macro avg       0.06      0.11      0.08        25\n",
            "weighted avg       0.27      0.52      0.36        25\n",
            "\n"
          ]
        },
        {
          "output_type": "stream",
          "name": "stderr",
          "text": [
            "/usr/local/lib/python3.10/dist-packages/sklearn/metrics/_classification.py:1531: UndefinedMetricWarning: Precision is ill-defined and being set to 0.0 in labels with no predicted samples. Use `zero_division` parameter to control this behavior.\n",
            "  _warn_prf(average, modifier, f\"{metric.capitalize()} is\", len(result))\n",
            "/usr/local/lib/python3.10/dist-packages/sklearn/metrics/_classification.py:1531: UndefinedMetricWarning: Precision is ill-defined and being set to 0.0 in labels with no predicted samples. Use `zero_division` parameter to control this behavior.\n",
            "  _warn_prf(average, modifier, f\"{metric.capitalize()} is\", len(result))\n",
            "/usr/local/lib/python3.10/dist-packages/sklearn/metrics/_classification.py:1531: UndefinedMetricWarning: Precision is ill-defined and being set to 0.0 in labels with no predicted samples. Use `zero_division` parameter to control this behavior.\n",
            "  _warn_prf(average, modifier, f\"{metric.capitalize()} is\", len(result))\n"
          ]
        }
      ],
      "source": [
        "print(\"\\nRelatório de Classificação:\")\n",
        "print(classification_report(y_test, y_pred))"
      ]
    },
    {
      "cell_type": "code",
      "source": [
        "# Matriz de Confusão\n",
        "plt.figure(figsize=(8, 6))\n",
        "conf_matrix = confusion_matrix(y_test, y_pred)\n",
        "sns.heatmap(conf_matrix, annot=True, fmt='d', cmap='Blues')\n",
        "plt.xlabel(\"Predito\")\n",
        "plt.ylabel(\"Real\")\n",
        "plt.title(\"Matriz de Confusão\")\n",
        "plt.show()"
      ],
      "metadata": {
        "colab": {
          "base_uri": "https://localhost:8080/",
          "height": 564
        },
        "id": "ISREXc59Vjtv",
        "outputId": "e41f2a99-e65f-4b4e-e13d-ff5158861211"
      },
      "execution_count": 40,
      "outputs": [
        {
          "output_type": "display_data",
          "data": {
            "text/plain": [
              "<Figure size 800x600 with 2 Axes>"
            ],
            "image/png": "[encoded data removed]"
          },
          "metadata": {}
        }
      ]
    },
    {
      "cell_type": "code",
      "source": [
        "# Visualização de dispersão Followers x Avg Likes\n",
        "plt.figure(figsize=(8, 6))\n",
        "sns.scatterplot(data=df_filtered, x='followers', y='avg_likes', hue='country', palette='viridis')\n",
        "plt.title('Dispersão: Followers vs Avg Likes')\n",
        "plt.xlabel('Followers')\n",
        "plt.ylabel('Avg Likes')\n",
        "plt.legend(title='Country', bbox_to_anchor=(1.05, 1), loc='upper left')\n",
        "plt.grid(True)\n",
        "plt.show()"
      ],
      "metadata": {
        "colab": {
          "base_uri": "https://localhost:8080/",
          "height": 564
        },
        "id": "ep9NatKGVpKD",
        "outputId": "439ad3bb-ec0b-4a82-eb25-a71b96e2db75"
      },
      "execution_count": 41,
      "outputs": [
        {
          "output_type": "display_data",
          "data": {
            "text/plain": [
              "<Figure size 800x600 with 1 Axes>"
            ],
            "image/png": "[encoded data removed]"
          },
          "metadata": {}
        }
      ]
    },
    {
      "cell_type": "code",
      "source": [
        "# Visualização do impacto do Influence Score por rank\n",
        "plt.figure(figsize=(8, 6))\n",
        "sns.barplot(data=df_filtered, x='influence_score', y='country', palette='coolwarm', ci=None)\n",
        "plt.title('Influence Score por Country')\n",
        "plt.xlabel('Influence Score')\n",
        "plt.ylabel('Country')\n",
        "plt.grid(True)\n",
        "plt.show()"
      ],
      "metadata": {
        "colab": {
          "base_uri": "https://localhost:8080/",
          "height": 738
        },
        "id": "OEV_Mf9bjoEF",
        "outputId": "30061900-3bbe-4173-8504-3a20ec8d1957"
      },
      "execution_count": 42,
      "outputs": [
        {
          "output_type": "stream",
          "name": "stderr",
          "text": [
            "<ipython-input-42-96b667662790>:3: FutureWarning: \n",
            "\n",
            "The `ci` parameter is deprecated. Use `errorbar=None` for the same effect.\n",
            "\n",
            "  sns.barplot(data=df_filtered, x='influence_score', y='country', palette='coolwarm', ci=None)\n",
            "<ipython-input-42-96b667662790>:3: FutureWarning: \n",
            "\n",
            "Passing `palette` without assigning `hue` is deprecated and will be removed in v0.14.0. Assign the `x` variable to `hue` and set `legend=False` for the same effect.\n",
            "\n",
            "  sns.barplot(data=df_filtered, x='influence_score', y='country', palette='coolwarm', ci=None)\n"
          ]
        },
        {
          "output_type": "display_data",
          "data": {
            "text/plain": [
              "<Figure size 800x600 with 1 Axes>"
            ],
            "image/png": "[encoded data removed]"
          },
          "metadata": {}
        }
      ]
    },
    {
      "cell_type": "markdown",
      "source": [
        "# Otimização de Hiperparâmetros com GridSearchCV e Lidando com Regiões Específicas (Asia, Oceania, Africa)"
      ],
      "metadata": {
        "id": "z6HKS3PzkZ4R"
      }
    },
    {
      "cell_type": "code",
      "source": [
        "\n",
        "scaler = StandardScaler()\n",
        "df[colunas_numericas] = scaler.fit_transform(df[colunas_numericas])\n",
        "\n",
        "# Mapeamento de regiões\n",
        "region_mapping = {\n",
        "    'India': 'Asia', 'Indonesia': 'Asia',\n",
        "    'Australia': 'Oceania', 'New Zealand': 'Oceania',\n",
        "    'South Africa': 'Africa', 'Nigeria': 'Africa'\n",
        "}\n",
        "df['region'] = df['country'].map(region_mapping).fillna('Other')\n",
        "df['region'] = df['region'].astype('category').cat.codes\n",
        "\n",
        "df['country'] = df['country'].astype('category').cat.codes\n",
        "\n"
      ],
      "metadata": {
        "id": "MS4xVTP0kEIX"
      },
      "execution_count": 56,
      "outputs": []
    },
    {
      "cell_type": "markdown",
      "source": [
        "# Separando em treino e validação"
      ],
      "metadata": {
        "id": "hbKrIfL0_6ZT"
      }
    },
    {
      "cell_type": "code",
      "source": [
        "valid_classes = df['country'].value_counts()[df['country'].value_counts() > 1].index\n",
        "df_filtered = df[df['country'].isin(valid_classes)]\n",
        "\n",
        "\n",
        "X = df_filtered[['influence_score', 'posts', 'followers', 'avg_likes',\n",
        "                 '60_day_eng_rate', 'new_post_avg_like', 'total_likes', 'region']]\n",
        "y = df_filtered['country']\n",
        "\n",
        "\n",
        "X_train, X_test, y_train, y_test = train_test_split(X, y, test_size=0.2, random_state=42, stratify=y)\n",
        "\n",
        "\n",
        "print(\"Amostra dos dados de treino:\\n\", X_train.head())\n",
        "print(\"Distribuição das classes:\\n\", y_train.value_counts())\n"
      ],
      "metadata": {
        "colab": {
          "base_uri": "https://localhost:8080/"
        },
        "id": "KNiWLoH1_67X",
        "outputId": "da3d7db8-9c2e-4f5a-e02a-60b4e2693396"
      },
      "execution_count": 57,
      "outputs": [
        {
          "output_type": "stream",
          "name": "stdout",
          "text": [
            "Amostra dos dados de treino:\n",
            "      influence_score    posts  followers  avg_likes  60_day_eng_rate  \\\n",
            "75                80    280.0  -0.323587   1.637090           0.0863   \n",
            "107               82   6500.0  -0.433818  -0.891337           0.0008   \n",
            "159               75  13400.0  -0.556436  -0.883632           0.0013   \n",
            "196               81   3800.0  -0.625795  -0.719684           0.0064   \n",
            "118               82    160.0  -0.461067   2.094133           0.0881   \n",
            "\n",
            "     new_post_avg_like  total_likes  region  \n",
            "75           5000000.0    -0.424996       0  \n",
            "107            40500.0     3.004894       0  \n",
            "159            49100.0    -0.424996       0  \n",
            "196           208000.0    -0.424996       0  \n",
            "118          4000000.0     2.794689       0  \n",
            "Distribuição das classes:\n",
            " country\n",
            "23    53\n",
            "2     10\n",
            "10     9\n",
            "11     6\n",
            "8      5\n",
            "17     4\n",
            "22     3\n",
            "14     2\n",
            "4      2\n",
            "5      2\n",
            "13     2\n",
            "20     2\n",
            "Name: count, dtype: int64\n"
          ]
        }
      ]
    },
    {
      "cell_type": "markdown",
      "source": [
        "# Treinamento do modelo"
      ],
      "metadata": {
        "id": "D6fg45ACAMnJ"
      }
    },
    {
      "cell_type": "code",
      "source": [
        "param_grid = {\n",
        "    'n_neighbors': range(1, 31),\n",
        "    'weights': ['uniform', 'distance'],\n",
        "    'metric': ['euclidean', 'manhattan', 'chebyshev']\n",
        "}\n",
        "\n",
        "grid_search = GridSearchCV(KNeighborsClassifier(), param_grid, cv=5, scoring='accuracy', n_jobs=-1)\n",
        "grid_search.fit(X_train, y_train)\n",
        "\n",
        "\n",
        "best_params = grid_search.best_params_\n",
        "print(f\"Melhores parâmetros: {best_params}\")\n",
        "knn_optimized = grid_search.best_estimator_\n",
        "\n",
        "\n",
        "y_pred = knn_optimized.predict(X_test)\n",
        "accuracy = knn_optimized.score(X_test, y_test)\n",
        "mae = mean_absolute_error(y_test, y_pred)\n",
        "mse = mean_squared_error(y_test, y_pred)\n",
        "rmse = np.sqrt(mse)\n",
        "\n"
      ],
      "metadata": {
        "colab": {
          "base_uri": "https://localhost:8080/"
        },
        "id": "Swxef2TGAPfa",
        "outputId": "c1426056-7f0d-41ed-9dae-e59c08aac498"
      },
      "execution_count": 58,
      "outputs": [
        {
          "output_type": "stream",
          "name": "stderr",
          "text": [
            "/usr/local/lib/python3.10/dist-packages/sklearn/model_selection/_split.py:776: UserWarning: The least populated class in y has only 2 members, which is less than n_splits=5.\n",
            "  warnings.warn(\n"
          ]
        },
        {
          "output_type": "stream",
          "name": "stdout",
          "text": [
            "Melhores parâmetros: {'metric': 'euclidean', 'n_neighbors': 19, 'weights': 'uniform'}\n"
          ]
        },
        {
          "output_type": "stream",
          "name": "stderr",
          "text": [
            "<ipython-input-58-de707a37d548>:20: RuntimeWarning: invalid value encountered in sqrt\n",
            "  rmse = np.sqrt(mse)\n"
          ]
        }
      ]
    },
    {
      "cell_type": "markdown",
      "source": [
        "# Resultados"
      ],
      "metadata": {
        "id": "3_ls724gAaMb"
      }
    },
    {
      "cell_type": "code",
      "source": [
        "print(f\"Acurácia: {accuracy * 100:.2f}%\")\n",
        "print(f\"MAE: {mae:.2f}\")\n",
        "print(f\"MSE: {mse:.2f}\")\n",
        "print(f\"RMSE: {rmse:.2f}\")\n",
        "\n",
        "print(\"\\nRelatório de Classificação:\")\n",
        "print(classification_report(y_test, y_pred))\n",
        "\n"
      ],
      "metadata": {
        "colab": {
          "base_uri": "https://localhost:8080/"
        },
        "id": "1WMShE-oAZsU",
        "outputId": "0f0121d2-4161-4fe1-cbaf-1cc88383ffa7"
      },
      "execution_count": 60,
      "outputs": [
        {
          "output_type": "stream",
          "name": "stdout",
          "text": [
            "Acurácia: 52.00%\n",
            "MAE: 6.92\n",
            "MSE: -16.28\n",
            "RMSE: nan\n",
            "\n",
            "Relatório de Classificação:\n",
            "              precision    recall  f1-score   support\n",
            "\n",
            "           2       0.00      0.00      0.00         3\n",
            "           4       0.00      0.00      0.00         1\n",
            "           5       0.00      0.00      0.00         1\n",
            "           8       0.00      0.00      0.00         1\n",
            "          10       0.00      0.00      0.00         3\n",
            "          11       0.00      0.00      0.00         1\n",
            "          17       0.00      0.00      0.00         1\n",
            "          22       0.00      0.00      0.00         1\n",
            "          23       0.52      1.00      0.68        13\n",
            "\n",
            "    accuracy                           0.52        25\n",
            "   macro avg       0.06      0.11      0.08        25\n",
            "weighted avg       0.27      0.52      0.36        25\n",
            "\n"
          ]
        },
        {
          "output_type": "stream",
          "name": "stderr",
          "text": [
            "/usr/local/lib/python3.10/dist-packages/sklearn/metrics/_classification.py:1531: UndefinedMetricWarning: Precision is ill-defined and being set to 0.0 in labels with no predicted samples. Use `zero_division` parameter to control this behavior.\n",
            "  _warn_prf(average, modifier, f\"{metric.capitalize()} is\", len(result))\n",
            "/usr/local/lib/python3.10/dist-packages/sklearn/metrics/_classification.py:1531: UndefinedMetricWarning: Precision is ill-defined and being set to 0.0 in labels with no predicted samples. Use `zero_division` parameter to control this behavior.\n",
            "  _warn_prf(average, modifier, f\"{metric.capitalize()} is\", len(result))\n",
            "/usr/local/lib/python3.10/dist-packages/sklearn/metrics/_classification.py:1531: UndefinedMetricWarning: Precision is ill-defined and being set to 0.0 in labels with no predicted samples. Use `zero_division` parameter to control this behavior.\n",
            "  _warn_prf(average, modifier, f\"{metric.capitalize()} is\", len(result))\n"
          ]
        }
      ]
    },
    {
      "cell_type": "code",
      "source": [
        "# Matriz de Confusão\n",
        "plt.figure(figsize=(8, 6))\n",
        "conf_matrix = confusion_matrix(y_test, y_pred)\n",
        "sns.heatmap(conf_matrix, annot=True, fmt='d', cmap='Blues')\n",
        "plt.xlabel(\"Predito\")\n",
        "plt.ylabel(\"Real\")\n",
        "plt.title(\"Matriz de Confusão\")\n",
        "plt.show()\n",
        "\n"
      ],
      "metadata": {
        "colab": {
          "base_uri": "https://localhost:8080/",
          "height": 564
        },
        "id": "zfHouUDvAjR7",
        "outputId": "e5ad5de4-15c3-4f39-9d9e-cf6ceb864084"
      },
      "execution_count": 61,
      "outputs": [
        {
          "output_type": "display_data",
          "data": {
            "text/plain": [
              "<Figure size 800x600 with 2 Axes>"
            ],
            "image/png": "[encoded data removed]"
          },
          "metadata": {}
        }
      ]
    },
    {
      "cell_type": "code",
      "source": [
        "# Visualização de dispersão Followers x Avg Likes\n",
        "plt.figure(figsize=(8, 6))\n",
        "sns.scatterplot(data=df_filtered, x='followers', y='avg_likes', hue='region', palette='viridis')\n",
        "plt.title('Dispersão: Followers vs Avg Likes (Regiões)')\n",
        "plt.xlabel('Followers')\n",
        "plt.ylabel('Avg Likes')\n",
        "plt.legend(title='Region', bbox_to_anchor=(1.05, 1), loc='upper left')\n",
        "plt.grid(True)\n",
        "plt.show()\n",
        "\n"
      ],
      "metadata": {
        "colab": {
          "base_uri": "https://localhost:8080/",
          "height": 564
        },
        "id": "aNkQsh3PAmrk",
        "outputId": "4ac638fd-72e5-497b-93ba-a29771137690"
      },
      "execution_count": 62,
      "outputs": [
        {
          "output_type": "display_data",
          "data": {
            "text/plain": [
              "<Figure size 800x600 with 1 Axes>"
            ],
            "image/png": "[encoded data removed]"
          },
          "metadata": {}
        }
      ]
    },
    {
      "cell_type": "code",
      "source": [
        "# Visualização do impacto do Influence Score por região\n",
        "plt.figure(figsize=(8, 6))\n",
        "sns.barplot(data=df_filtered, x='region', y='influence_score', palette='coolwarm', ci=None)\n",
        "plt.title('Influence Score por Região')\n",
        "plt.xlabel('Region')\n",
        "plt.ylabel('Influence Score')\n",
        "plt.grid(True)\n",
        "plt.show()"
      ],
      "metadata": {
        "colab": {
          "base_uri": "https://localhost:8080/",
          "height": 738
        },
        "id": "SriTTyskApZT",
        "outputId": "d69f7777-4082-4c24-a746-fcc04b2790e9"
      },
      "execution_count": 63,
      "outputs": [
        {
          "output_type": "stream",
          "name": "stderr",
          "text": [
            "<ipython-input-63-899e02d82444>:3: FutureWarning: \n",
            "\n",
            "The `ci` parameter is deprecated. Use `errorbar=None` for the same effect.\n",
            "\n",
            "  sns.barplot(data=df_filtered, x='region', y='influence_score', palette='coolwarm', ci=None)\n",
            "<ipython-input-63-899e02d82444>:3: FutureWarning: \n",
            "\n",
            "Passing `palette` without assigning `hue` is deprecated and will be removed in v0.14.0. Assign the `x` variable to `hue` and set `legend=False` for the same effect.\n",
            "\n",
            "  sns.barplot(data=df_filtered, x='region', y='influence_score', palette='coolwarm', ci=None)\n"
          ]
        },
        {
          "output_type": "display_data",
          "data": {
            "text/plain": [
              "<Figure size 800x600 with 1 Axes>"
            ],
            "image/png": "[encoded data removed]"
          },
          "metadata": {}
        }
      ]
    }
  ],
  "metadata": {
    "colab": {
      "provenance": []
    },
    "kernelspec": {
      "display_name": "Python 3",
      "name": "python3"
    },
    "language_info": {
      "name": "python"
    }
  },
  "nbformat": 4,
  "nbformat_minor": 0
}